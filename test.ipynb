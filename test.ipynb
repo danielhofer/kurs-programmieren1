# Ehm ja ein Jupyter-Notebook
Bin ja mal gespannt, ob das tut.
